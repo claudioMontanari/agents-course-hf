{
 "cells": [
  {
   "cell_type": "code",
   "execution_count": 1,
   "metadata": {},
   "outputs": [
    {
     "name": "stderr",
     "output_type": "stream",
     "text": [
      "/home/vscode/.venv/lib/python3.12/site-packages/tqdm/auto.py:21: TqdmWarning: IProgress not found. Please update jupyter and ipywidgets. See https://ipywidgets.readthedocs.io/en/stable/user_install.html\n",
      "  from .autonotebook import tqdm as notebook_tqdm\n"
     ]
    }
   ],
   "source": [
    "import dotenv\n",
    "from huggingface_hub import InferenceClient\n",
    "\n",
    "dotenv.load_dotenv()\n",
    "\n",
    "models_for_testing = {\n",
    "    \"small-llama-3.2\": \"meta-llama/Llama-3.2-3B-Instruct\",\n",
    "    \"qwen2.5-coder\": \"Qwen/Qwen2.5-Coder-32B-Instruct\",\n",
    "}\n",
    "model = models_for_testing[\"qwen2.5-coder\"]\n",
    "client = InferenceClient(model)"
   ]
  },
  {
   "cell_type": "code",
   "execution_count": 4,
   "metadata": {},
   "outputs": [
    {
     "name": "stdout",
     "output_type": "stream",
     "text": [
      "To find the value of \\(13,131,313,131,313 \\times 13,131,313,131,313\\), we can use a calculator or perform the multiplication step-by-step.\n",
      "\n",
      "Using a calculator, the result is:\n",
      "\n",
      "\\[ 13,131,313,131,313 \\times 13,131,313,131,313 = 172,450,553,349,632,321,761 \\]\n",
      "\n",
      "So, the value is \\( 172,450,553,349,632,321,761 \\).\n"
     ]
    }
   ],
   "source": [
    "output = client.chat.completions.create(\n",
    "    messages=[\n",
    "        {\n",
    "            \"role\": \"user\",\n",
    "            \"content\": \"What is the value of 13131313131313 * 13131313131313?\",\n",
    "        },\n",
    "    ],\n",
    "    stream=False,\n",
    "    max_tokens=1024,\n",
    ")\n",
    "print(output.choices[0].message.content)"
   ]
  },
  {
   "cell_type": "code",
   "execution_count": null,
   "metadata": {},
   "outputs": [],
   "source": []
  }
 ],
 "metadata": {
  "kernelspec": {
   "display_name": "agents-course-hf",
   "language": "python",
   "name": "agents-course-hf"
  },
  "language_info": {
   "codemirror_mode": {
    "name": "ipython",
    "version": 3
   },
   "file_extension": ".py",
   "mimetype": "text/x-python",
   "name": "python",
   "nbconvert_exporter": "python",
   "pygments_lexer": "ipython3",
   "version": "3.12.9"
  }
 },
 "nbformat": 4,
 "nbformat_minor": 2
}
